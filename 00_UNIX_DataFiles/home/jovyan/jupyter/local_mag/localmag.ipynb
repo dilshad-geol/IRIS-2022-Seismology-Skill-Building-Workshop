{
 "cells": [
  {
   "cell_type": "markdown",
   "metadata": {},
   "source": [
    "<b>Local Magnitude Estimator</b><br>\n",
    "This Notebook is designed to demonstrate how to download a set of waveforms from stations near a catalog earthquake and use them to estimate the local magnitude.\n"
   ]
  },
  {
   "cell_type": "code",
   "execution_count": 1,
   "metadata": {},
   "outputs": [],
   "source": [
    "import os\n",
    "from math import log10\n",
    "from obspy import UTCDateTime, read, read_inventory\n",
    "from obspy.geodetics import gps2dist_azimuth\n",
    "from obspy.clients.fdsn.mass_downloader import CircularDomain, Restrictions, MassDownloader\n",
    "from obspy.clients.fdsn import Client\n",
    "client = Client(\"IRIS\")"
   ]
  },
  {
   "cell_type": "markdown",
   "metadata": {},
   "source": [
    "The following code will set the variables for the earthquake catalog search.  If a catalog event is not yet available, the values needed for future code are the origin time and the latitude and longitude.<br><br>\n",
    "In the predefined example, the values are set for a small earthquake in the Eastern Tennessee Seismic Zone.  The USGS page for this event can be found here:<br> <a href=https://earthquake.usgs.gov/earthquakes/eventpage/se60300191>https://earthquake.usgs.gov/earthquakes/eventpage/se60300191</a>"
   ]
  },
  {
   "cell_type": "code",
   "execution_count": 2,
   "metadata": {},
   "outputs": [],
   "source": [
    "catstartt = UTCDateTime(\"2020-01-01\")\n",
    "catendt = UTCDateTime(\"2020-08-15\")\n",
    "lon = -84\n",
    "lat = 36.43\n",
    "rad = 1\n",
    "cat = client.get_events(starttime=catstartt, endtime=catendt, latitude=lat, longitude=lon, maxradius=rad, minmagnitude=3)"
   ]
  },
  {
   "cell_type": "markdown",
   "metadata": {},
   "source": [
    "Printing the catalog will show the events which have been returned by the search.  Note what the catalog magnitude value is and what type it is.  The origin time is stored in a variable."
   ]
  },
  {
   "cell_type": "code",
   "execution_count": 3,
   "metadata": {},
   "outputs": [
    {
     "name": "stdout",
     "output_type": "stream",
     "text": [
      "1 Event(s) in Catalog:\n",
      "2020-01-20T19:12:11.260000Z | +36.431,  -84.027 | 3.8  Mwr\n"
     ]
    }
   ],
   "source": [
    "print(cat)"
   ]
  },
  {
   "cell_type": "markdown",
   "metadata": {},
   "source": [
    "Next we set the variables for the waveform search."
   ]
  },
  {
   "cell_type": "code",
   "execution_count": 4,
   "metadata": {},
   "outputs": [],
   "source": [
    "origint = UTCDateTime(cat[0].origins[0].time.datetime)\n",
    "wfstartt = origint - 10\n",
    "wfendt = origint + 50\n",
    "stamaxrad = 1\n",
    "domain = CircularDomain(latitude=lat, longitude=lon, minradius=0, maxradius=stamaxrad)\n",
    "restrictions = Restrictions(starttime=wfstartt, endtime=wfendt, channel_priorities=[\"HH[NE12]\", \"BH[NE12]\"], location_priorities=[\"\", \"00\", \"10\"])"
   ]
  },
  {
   "cell_type": "markdown",
   "metadata": {},
   "source": [
    "The following code performs the waveform search.  It looks for stations from many different FDSN clients, so it can take several minutes to complete.  It will produce a lot of information in pink that describes the different steps through the search process."
   ]
  },
  {
   "cell_type": "code",
   "execution_count": 5,
   "metadata": {
    "scrolled": true
   },
   "outputs": [
    {
     "name": "stderr",
     "output_type": "stream",
     "text": [
      "[2022-09-11 16:05:22,968] - obspy.clients.fdsn.mass_downloader - INFO: Initializing FDSN client(s) for AUSPASS, BGR, EMSC, ETH, GEOFON, GEONET, GFZ, ICGC, IESDMC, INGV, IPGP, ISC, KNMI, KOERI, LMU, NCEDC, NIEP, NOA, RESIF, RESIFPH5, SCEDC, TEXNET, UIB-NORSAR, USGS, USP, ORFEUS, IRIS.\n",
      "[2022-09-11 16:05:32,101] - obspy.clients.fdsn.mass_downloader - INFO: Cannot use client 'USGS' as it does not have 'dataselect' and/or 'station' services.\n",
      "[2022-09-11 16:05:35,966] - obspy.clients.fdsn.mass_downloader - INFO: Cannot use client 'EMSC' as it does not have 'dataselect' and/or 'station' services.\n",
      "[2022-09-11 16:05:38,051] - obspy.clients.fdsn.mass_downloader - INFO: Cannot use client 'BGR' as it does not have 'dataselect' and/or 'station' services.\n",
      "[2022-09-11 16:05:38,095] - obspy.clients.fdsn.mass_downloader - INFO: Cannot use client 'RESIFPH5' as it does not have 'dataselect' and/or 'station' services.\n",
      "[2022-09-11 16:05:41,640] - obspy.clients.fdsn.mass_downloader - INFO: Cannot use client 'USP' as it does not have 'dataselect' and/or 'station' services.\n",
      "[2022-09-11 16:05:42,769] - obspy.clients.fdsn.mass_downloader - INFO: Cannot use client 'ISC' as it does not have 'dataselect' and/or 'station' services.\n",
      "[2022-09-11 16:05:42,775] - obspy.clients.fdsn.mass_downloader - INFO: Successfully initialized 21 client(s): AUSPASS, ETH, GEOFON, GEONET, GFZ, ICGC, IESDMC, INGV, IPGP, KNMI, KOERI, LMU, NCEDC, NIEP, NOA, RESIF, SCEDC, TEXNET, UIB-NORSAR, ORFEUS, IRIS.\n",
      "[2022-09-11 16:05:42,779] - obspy.clients.fdsn.mass_downloader - INFO: Total acquired or preexisting stations: 0\n",
      "[2022-09-11 16:05:42,780] - obspy.clients.fdsn.mass_downloader - INFO: Client 'AUSPASS' - Requesting reliable availability.\n",
      "[2022-09-11 16:05:44,089] - obspy.clients.fdsn.mass_downloader - INFO: Client 'AUSPASS' - No data available for request.\n",
      "[2022-09-11 16:05:44,091] - obspy.clients.fdsn.mass_downloader - INFO: Client 'AUSPASS' - No data available.\n",
      "[2022-09-11 16:05:44,093] - obspy.clients.fdsn.mass_downloader - INFO: Total acquired or preexisting stations: 0\n",
      "[2022-09-11 16:05:44,094] - obspy.clients.fdsn.mass_downloader - INFO: Client 'ETH' - Requesting unreliable availability.\n",
      "[2022-09-11 16:05:44,974] - obspy.clients.fdsn.mass_downloader - INFO: Client 'ETH' - No data available for request.\n",
      "[2022-09-11 16:05:44,976] - obspy.clients.fdsn.mass_downloader - INFO: Client 'ETH' - No data available.\n",
      "[2022-09-11 16:05:44,977] - obspy.clients.fdsn.mass_downloader - INFO: Total acquired or preexisting stations: 0\n",
      "[2022-09-11 16:05:44,978] - obspy.clients.fdsn.mass_downloader - INFO: Client 'GEOFON' - Requesting unreliable availability.\n",
      "[2022-09-11 16:05:46,390] - obspy.clients.fdsn.mass_downloader - INFO: Client 'GEOFON' - No data available for request.\n",
      "[2022-09-11 16:05:46,391] - obspy.clients.fdsn.mass_downloader - INFO: Client 'GEOFON' - No data available.\n",
      "[2022-09-11 16:05:46,392] - obspy.clients.fdsn.mass_downloader - INFO: Total acquired or preexisting stations: 0\n",
      "[2022-09-11 16:05:46,393] - obspy.clients.fdsn.mass_downloader - INFO: Client 'GEONET' - Requesting unreliable availability.\n",
      "[2022-09-11 16:05:47,157] - obspy.clients.fdsn.mass_downloader - INFO: Client 'GEONET' - No data available for request.\n",
      "[2022-09-11 16:05:47,158] - obspy.clients.fdsn.mass_downloader - INFO: Client 'GEONET' - No data available.\n",
      "[2022-09-11 16:05:47,160] - obspy.clients.fdsn.mass_downloader - INFO: Total acquired or preexisting stations: 0\n",
      "[2022-09-11 16:05:47,161] - obspy.clients.fdsn.mass_downloader - INFO: Client 'GFZ' - Requesting unreliable availability.\n",
      "[2022-09-11 16:05:48,377] - obspy.clients.fdsn.mass_downloader - INFO: Client 'GFZ' - No data available for request.\n",
      "[2022-09-11 16:05:48,379] - obspy.clients.fdsn.mass_downloader - INFO: Client 'GFZ' - No data available.\n",
      "[2022-09-11 16:05:48,380] - obspy.clients.fdsn.mass_downloader - INFO: Total acquired or preexisting stations: 0\n",
      "[2022-09-11 16:05:48,381] - obspy.clients.fdsn.mass_downloader - INFO: Client 'ICGC' - Requesting unreliable availability.\n",
      "[2022-09-11 16:05:49,182] - obspy.clients.fdsn.mass_downloader - INFO: Client 'ICGC' - No data available for request.\n",
      "[2022-09-11 16:05:49,184] - obspy.clients.fdsn.mass_downloader - INFO: Client 'ICGC' - No data available.\n",
      "[2022-09-11 16:05:49,185] - obspy.clients.fdsn.mass_downloader - INFO: Total acquired or preexisting stations: 0\n",
      "[2022-09-11 16:05:49,186] - obspy.clients.fdsn.mass_downloader - INFO: Client 'IESDMC' - Requesting reliable availability.\n",
      "[2022-09-11 16:05:50,323] - obspy.clients.fdsn.mass_downloader - INFO: Client 'IESDMC' - No data available for request.\n",
      "[2022-09-11 16:05:50,325] - obspy.clients.fdsn.mass_downloader - INFO: Client 'IESDMC' - No data available.\n",
      "[2022-09-11 16:05:50,326] - obspy.clients.fdsn.mass_downloader - INFO: Total acquired or preexisting stations: 0\n",
      "[2022-09-11 16:05:50,329] - obspy.clients.fdsn.mass_downloader - INFO: Client 'INGV' - Requesting unreliable availability.\n",
      "[2022-09-11 16:05:51,276] - obspy.clients.fdsn.mass_downloader - INFO: Client 'INGV' - No data available for request.\n",
      "[2022-09-11 16:05:51,278] - obspy.clients.fdsn.mass_downloader - INFO: Client 'INGV' - No data available.\n",
      "[2022-09-11 16:05:51,279] - obspy.clients.fdsn.mass_downloader - INFO: Total acquired or preexisting stations: 0\n",
      "[2022-09-11 16:05:51,281] - obspy.clients.fdsn.mass_downloader - INFO: Client 'IPGP' - Requesting unreliable availability.\n",
      "[2022-09-11 16:05:52,246] - obspy.clients.fdsn.mass_downloader - INFO: Client 'IPGP' - No data available for request.\n",
      "[2022-09-11 16:05:52,247] - obspy.clients.fdsn.mass_downloader - INFO: Client 'IPGP' - No data available.\n",
      "[2022-09-11 16:05:52,248] - obspy.clients.fdsn.mass_downloader - INFO: Total acquired or preexisting stations: 0\n",
      "[2022-09-11 16:05:52,250] - obspy.clients.fdsn.mass_downloader - INFO: Client 'KNMI' - Requesting unreliable availability.\n",
      "[2022-09-11 16:05:53,408] - obspy.clients.fdsn.mass_downloader - INFO: Client 'KNMI' - No data available for request.\n",
      "[2022-09-11 16:05:53,410] - obspy.clients.fdsn.mass_downloader - INFO: Client 'KNMI' - No data available.\n",
      "[2022-09-11 16:05:53,411] - obspy.clients.fdsn.mass_downloader - INFO: Total acquired or preexisting stations: 0\n",
      "[2022-09-11 16:05:53,413] - obspy.clients.fdsn.mass_downloader - INFO: Client 'KOERI' - Requesting unreliable availability.\n",
      "[2022-09-11 16:05:54,319] - obspy.clients.fdsn.mass_downloader - INFO: Client 'KOERI' - No data available for request.\n",
      "[2022-09-11 16:05:54,321] - obspy.clients.fdsn.mass_downloader - INFO: Client 'KOERI' - No data available.\n",
      "[2022-09-11 16:05:54,322] - obspy.clients.fdsn.mass_downloader - INFO: Total acquired or preexisting stations: 0\n",
      "[2022-09-11 16:05:54,323] - obspy.clients.fdsn.mass_downloader - INFO: Client 'LMU' - Requesting unreliable availability.\n",
      "[2022-09-11 16:05:55,998] - obspy.clients.fdsn.mass_downloader - INFO: Client 'LMU' - No data available for request.\n",
      "[2022-09-11 16:05:56,000] - obspy.clients.fdsn.mass_downloader - INFO: Client 'LMU' - No data available.\n",
      "[2022-09-11 16:05:56,001] - obspy.clients.fdsn.mass_downloader - INFO: Total acquired or preexisting stations: 0\n",
      "[2022-09-11 16:05:56,002] - obspy.clients.fdsn.mass_downloader - INFO: Client 'NCEDC' - Requesting unreliable availability.\n",
      "[2022-09-11 16:06:19,107] - obspy.clients.fdsn.mass_downloader - INFO: Client 'NCEDC' - No data available for request.\n",
      "[2022-09-11 16:06:19,108] - obspy.clients.fdsn.mass_downloader - INFO: Client 'NCEDC' - No data available.\n",
      "[2022-09-11 16:06:19,109] - obspy.clients.fdsn.mass_downloader - INFO: Total acquired or preexisting stations: 0\n",
      "[2022-09-11 16:06:19,110] - obspy.clients.fdsn.mass_downloader - INFO: Client 'NIEP' - Requesting unreliable availability.\n",
      "[2022-09-11 16:06:21,438] - obspy.clients.fdsn.mass_downloader - INFO: Client 'NIEP' - No data available for request.\n",
      "[2022-09-11 16:06:21,440] - obspy.clients.fdsn.mass_downloader - INFO: Client 'NIEP' - No data available.\n",
      "[2022-09-11 16:06:21,441] - obspy.clients.fdsn.mass_downloader - INFO: Total acquired or preexisting stations: 0\n",
      "[2022-09-11 16:06:21,442] - obspy.clients.fdsn.mass_downloader - INFO: Client 'NOA' - Requesting unreliable availability.\n",
      "[2022-09-11 16:06:22,348] - obspy.clients.fdsn.mass_downloader - INFO: Client 'NOA' - No data available for request.\n"
     ]
    },
    {
     "name": "stderr",
     "output_type": "stream",
     "text": [
      "[2022-09-11 16:06:22,350] - obspy.clients.fdsn.mass_downloader - INFO: Client 'NOA' - No data available.\n",
      "[2022-09-11 16:06:22,351] - obspy.clients.fdsn.mass_downloader - INFO: Total acquired or preexisting stations: 0\n",
      "[2022-09-11 16:06:22,353] - obspy.clients.fdsn.mass_downloader - INFO: Client 'RESIF' - Requesting reliable availability.\n",
      "[2022-09-11 16:06:24,317] - obspy.clients.fdsn.mass_downloader - INFO: Client 'RESIF' - No data available for request.\n",
      "[2022-09-11 16:06:24,319] - obspy.clients.fdsn.mass_downloader - INFO: Client 'RESIF' - No data available.\n",
      "[2022-09-11 16:06:24,321] - obspy.clients.fdsn.mass_downloader - INFO: Total acquired or preexisting stations: 0\n",
      "[2022-09-11 16:06:24,323] - obspy.clients.fdsn.mass_downloader - INFO: Client 'SCEDC' - Requesting unreliable availability.\n",
      "[2022-09-11 16:07:02,119] - obspy.clients.fdsn.mass_downloader - INFO: Client 'SCEDC' - No data available for request.\n",
      "[2022-09-11 16:07:02,121] - obspy.clients.fdsn.mass_downloader - INFO: Client 'SCEDC' - No data available.\n",
      "[2022-09-11 16:07:02,122] - obspy.clients.fdsn.mass_downloader - INFO: Total acquired or preexisting stations: 0\n",
      "[2022-09-11 16:07:02,124] - obspy.clients.fdsn.mass_downloader - INFO: Client 'TEXNET' - Requesting unreliable availability.\n",
      "[2022-09-11 16:07:03,282] - obspy.clients.fdsn.mass_downloader - INFO: Client 'TEXNET' - No data available for request.\n",
      "[2022-09-11 16:07:03,284] - obspy.clients.fdsn.mass_downloader - INFO: Client 'TEXNET' - No data available.\n",
      "[2022-09-11 16:07:03,285] - obspy.clients.fdsn.mass_downloader - INFO: Total acquired or preexisting stations: 0\n",
      "[2022-09-11 16:07:03,286] - obspy.clients.fdsn.mass_downloader - INFO: Client 'UIB-NORSAR' - Requesting unreliable availability.\n",
      "[2022-09-11 16:07:04,357] - obspy.clients.fdsn.mass_downloader - INFO: Client 'UIB-NORSAR' - No data available for request.\n",
      "[2022-09-11 16:07:04,359] - obspy.clients.fdsn.mass_downloader - INFO: Client 'UIB-NORSAR' - No data available.\n",
      "[2022-09-11 16:07:04,361] - obspy.clients.fdsn.mass_downloader - INFO: Total acquired or preexisting stations: 0\n",
      "[2022-09-11 16:07:04,362] - obspy.clients.fdsn.mass_downloader - INFO: Client 'ORFEUS' - Requesting unreliable availability.\n",
      "[2022-09-11 16:07:05,474] - obspy.clients.fdsn.mass_downloader - INFO: Client 'ORFEUS' - No data available for request.\n",
      "[2022-09-11 16:07:05,475] - obspy.clients.fdsn.mass_downloader - INFO: Client 'ORFEUS' - No data available.\n",
      "[2022-09-11 16:07:05,476] - obspy.clients.fdsn.mass_downloader - INFO: Total acquired or preexisting stations: 0\n",
      "[2022-09-11 16:07:05,477] - obspy.clients.fdsn.mass_downloader - INFO: Client 'IRIS' - Requesting reliable availability.\n",
      "[2022-09-11 16:07:09,998] - obspy.clients.fdsn.mass_downloader - INFO: Client 'IRIS' - Successfully requested availability (4.52 seconds)\n",
      "[2022-09-11 16:07:10,008] - obspy.clients.fdsn.mass_downloader - INFO: Client 'IRIS' - Found 3 stations (6 channels).\n",
      "[2022-09-11 16:07:10,012] - obspy.clients.fdsn.mass_downloader - INFO: Client 'IRIS' - Will attempt to download data from 3 stations.\n",
      "[2022-09-11 16:07:10,015] - obspy.clients.fdsn.mass_downloader - INFO: Client 'IRIS' - Status for 6 time intervals/channels before downloading: NEEDS_DOWNLOADING\n",
      "[2022-09-11 16:07:16,428] - obspy.clients.fdsn.mass_downloader - INFO: Client 'IRIS' - Successfully downloaded 6 channels (of 6)\n",
      "[2022-09-11 16:07:16,429] - obspy.clients.fdsn.mass_downloader - INFO: Client 'IRIS' - Launching basic QC checks...\n",
      "[2022-09-11 16:07:16,451] - obspy.clients.fdsn.mass_downloader - INFO: Client 'IRIS' - Downloaded 0.1 MB [9.12 KB/sec] of data, 0.0 MB of which were discarded afterwards.\n",
      "[2022-09-11 16:07:16,452] - obspy.clients.fdsn.mass_downloader - INFO: Client 'IRIS' - Status for 6 time intervals/channels after downloading: DOWNLOADED\n",
      "[2022-09-11 16:07:17,564] - obspy.clients.fdsn.mass_downloader - INFO: Client 'IRIS' - Successfully downloaded 'stations/IM.TKL.xml'.\n",
      "[2022-09-11 16:07:18,197] - obspy.clients.fdsn.mass_downloader - INFO: Client 'IRIS' - Successfully downloaded 'stations/N4.T50A.xml'.\n",
      "[2022-09-11 16:07:18,198] - obspy.clients.fdsn.mass_downloader - INFO: Client 'IRIS' - Successfully downloaded 'stations/US.TZTN.xml'.\n",
      "[2022-09-11 16:07:18,207] - obspy.clients.fdsn.mass_downloader - INFO: Client 'IRIS' - Downloaded 3 station files [0.1 MB] in 1.7 seconds [32.56 KB/sec].\n",
      "[2022-09-11 16:07:18,208] - obspy.clients.fdsn.mass_downloader - INFO: ============================== Final report\n",
      "[2022-09-11 16:07:18,209] - obspy.clients.fdsn.mass_downloader - INFO: 0 MiniSEED files [0.0 MB] already existed.\n",
      "[2022-09-11 16:07:18,210] - obspy.clients.fdsn.mass_downloader - INFO: 0 StationXML files [0.0 MB] already existed.\n",
      "[2022-09-11 16:07:18,211] - obspy.clients.fdsn.mass_downloader - INFO: Client 'AUSPASS' - Acquired 0 MiniSEED files [0.0 MB].\n",
      "[2022-09-11 16:07:18,212] - obspy.clients.fdsn.mass_downloader - INFO: Client 'AUSPASS' - Acquired 0 StationXML files [0.0 MB].\n",
      "[2022-09-11 16:07:18,213] - obspy.clients.fdsn.mass_downloader - INFO: Client 'ETH' - Acquired 0 MiniSEED files [0.0 MB].\n",
      "[2022-09-11 16:07:18,214] - obspy.clients.fdsn.mass_downloader - INFO: Client 'ETH' - Acquired 0 StationXML files [0.0 MB].\n",
      "[2022-09-11 16:07:18,215] - obspy.clients.fdsn.mass_downloader - INFO: Client 'GEOFON' - Acquired 0 MiniSEED files [0.0 MB].\n",
      "[2022-09-11 16:07:18,216] - obspy.clients.fdsn.mass_downloader - INFO: Client 'GEOFON' - Acquired 0 StationXML files [0.0 MB].\n",
      "[2022-09-11 16:07:18,217] - obspy.clients.fdsn.mass_downloader - INFO: Client 'GEONET' - Acquired 0 MiniSEED files [0.0 MB].\n",
      "[2022-09-11 16:07:18,217] - obspy.clients.fdsn.mass_downloader - INFO: Client 'GEONET' - Acquired 0 StationXML files [0.0 MB].\n",
      "[2022-09-11 16:07:18,218] - obspy.clients.fdsn.mass_downloader - INFO: Client 'GFZ' - Acquired 0 MiniSEED files [0.0 MB].\n",
      "[2022-09-11 16:07:18,219] - obspy.clients.fdsn.mass_downloader - INFO: Client 'GFZ' - Acquired 0 StationXML files [0.0 MB].\n",
      "[2022-09-11 16:07:18,220] - obspy.clients.fdsn.mass_downloader - INFO: Client 'ICGC' - Acquired 0 MiniSEED files [0.0 MB].\n",
      "[2022-09-11 16:07:18,221] - obspy.clients.fdsn.mass_downloader - INFO: Client 'ICGC' - Acquired 0 StationXML files [0.0 MB].\n",
      "[2022-09-11 16:07:18,222] - obspy.clients.fdsn.mass_downloader - INFO: Client 'IESDMC' - Acquired 0 MiniSEED files [0.0 MB].\n",
      "[2022-09-11 16:07:18,223] - obspy.clients.fdsn.mass_downloader - INFO: Client 'IESDMC' - Acquired 0 StationXML files [0.0 MB].\n",
      "[2022-09-11 16:07:18,224] - obspy.clients.fdsn.mass_downloader - INFO: Client 'INGV' - Acquired 0 MiniSEED files [0.0 MB].\n",
      "[2022-09-11 16:07:18,225] - obspy.clients.fdsn.mass_downloader - INFO: Client 'INGV' - Acquired 0 StationXML files [0.0 MB].\n",
      "[2022-09-11 16:07:18,225] - obspy.clients.fdsn.mass_downloader - INFO: Client 'IPGP' - Acquired 0 MiniSEED files [0.0 MB].\n",
      "[2022-09-11 16:07:18,226] - obspy.clients.fdsn.mass_downloader - INFO: Client 'IPGP' - Acquired 0 StationXML files [0.0 MB].\n",
      "[2022-09-11 16:07:18,227] - obspy.clients.fdsn.mass_downloader - INFO: Client 'KNMI' - Acquired 0 MiniSEED files [0.0 MB].\n",
      "[2022-09-11 16:07:18,228] - obspy.clients.fdsn.mass_downloader - INFO: Client 'KNMI' - Acquired 0 StationXML files [0.0 MB].\n",
      "[2022-09-11 16:07:18,229] - obspy.clients.fdsn.mass_downloader - INFO: Client 'KOERI' - Acquired 0 MiniSEED files [0.0 MB].\n",
      "[2022-09-11 16:07:18,230] - obspy.clients.fdsn.mass_downloader - INFO: Client 'KOERI' - Acquired 0 StationXML files [0.0 MB].\n",
      "[2022-09-11 16:07:18,230] - obspy.clients.fdsn.mass_downloader - INFO: Client 'LMU' - Acquired 0 MiniSEED files [0.0 MB].\n",
      "[2022-09-11 16:07:18,232] - obspy.clients.fdsn.mass_downloader - INFO: Client 'LMU' - Acquired 0 StationXML files [0.0 MB].\n",
      "[2022-09-11 16:07:18,234] - obspy.clients.fdsn.mass_downloader - INFO: Client 'NCEDC' - Acquired 0 MiniSEED files [0.0 MB].\n",
      "[2022-09-11 16:07:18,236] - obspy.clients.fdsn.mass_downloader - INFO: Client 'NCEDC' - Acquired 0 StationXML files [0.0 MB].\n",
      "[2022-09-11 16:07:18,237] - obspy.clients.fdsn.mass_downloader - INFO: Client 'NIEP' - Acquired 0 MiniSEED files [0.0 MB].\n",
      "[2022-09-11 16:07:18,238] - obspy.clients.fdsn.mass_downloader - INFO: Client 'NIEP' - Acquired 0 StationXML files [0.0 MB].\n",
      "[2022-09-11 16:07:18,238] - obspy.clients.fdsn.mass_downloader - INFO: Client 'NOA' - Acquired 0 MiniSEED files [0.0 MB].\n"
     ]
    },
    {
     "name": "stderr",
     "output_type": "stream",
     "text": [
      "[2022-09-11 16:07:18,239] - obspy.clients.fdsn.mass_downloader - INFO: Client 'NOA' - Acquired 0 StationXML files [0.0 MB].\n",
      "[2022-09-11 16:07:18,240] - obspy.clients.fdsn.mass_downloader - INFO: Client 'RESIF' - Acquired 0 MiniSEED files [0.0 MB].\n",
      "[2022-09-11 16:07:18,241] - obspy.clients.fdsn.mass_downloader - INFO: Client 'RESIF' - Acquired 0 StationXML files [0.0 MB].\n",
      "[2022-09-11 16:07:18,242] - obspy.clients.fdsn.mass_downloader - INFO: Client 'SCEDC' - Acquired 0 MiniSEED files [0.0 MB].\n",
      "[2022-09-11 16:07:18,242] - obspy.clients.fdsn.mass_downloader - INFO: Client 'SCEDC' - Acquired 0 StationXML files [0.0 MB].\n",
      "[2022-09-11 16:07:18,243] - obspy.clients.fdsn.mass_downloader - INFO: Client 'TEXNET' - Acquired 0 MiniSEED files [0.0 MB].\n",
      "[2022-09-11 16:07:18,244] - obspy.clients.fdsn.mass_downloader - INFO: Client 'TEXNET' - Acquired 0 StationXML files [0.0 MB].\n",
      "[2022-09-11 16:07:18,244] - obspy.clients.fdsn.mass_downloader - INFO: Client 'UIB-NORSAR' - Acquired 0 MiniSEED files [0.0 MB].\n",
      "[2022-09-11 16:07:18,245] - obspy.clients.fdsn.mass_downloader - INFO: Client 'UIB-NORSAR' - Acquired 0 StationXML files [0.0 MB].\n",
      "[2022-09-11 16:07:18,246] - obspy.clients.fdsn.mass_downloader - INFO: Client 'ORFEUS' - Acquired 0 MiniSEED files [0.0 MB].\n",
      "[2022-09-11 16:07:18,246] - obspy.clients.fdsn.mass_downloader - INFO: Client 'ORFEUS' - Acquired 0 StationXML files [0.0 MB].\n",
      "[2022-09-11 16:07:18,248] - obspy.clients.fdsn.mass_downloader - INFO: Client 'IRIS' - Acquired 6 MiniSEED files [0.1 MB].\n",
      "[2022-09-11 16:07:18,249] - obspy.clients.fdsn.mass_downloader - INFO: Client 'IRIS' - Acquired 3 StationXML files [0.1 MB].\n",
      "[2022-09-11 16:07:18,249] - obspy.clients.fdsn.mass_downloader - INFO: Downloaded 0.1 MB in total.\n"
     ]
    },
    {
     "data": {
      "text/plain": [
       "{'AUSPASS': <obspy.clients.fdsn.mass_downloader.download_helpers.ClientDownloadHelper at 0x7ff50d013d90>,\n",
       " 'ETH': <obspy.clients.fdsn.mass_downloader.download_helpers.ClientDownloadHelper at 0x7ff50b83d910>,\n",
       " 'GEOFON': <obspy.clients.fdsn.mass_downloader.download_helpers.ClientDownloadHelper at 0x7ff50d013880>,\n",
       " 'GEONET': <obspy.clients.fdsn.mass_downloader.download_helpers.ClientDownloadHelper at 0x7ff50d013d30>,\n",
       " 'GFZ': <obspy.clients.fdsn.mass_downloader.download_helpers.ClientDownloadHelper at 0x7ff50cdcc220>,\n",
       " 'ICGC': <obspy.clients.fdsn.mass_downloader.download_helpers.ClientDownloadHelper at 0x7ff50cdcca30>,\n",
       " 'IESDMC': <obspy.clients.fdsn.mass_downloader.download_helpers.ClientDownloadHelper at 0x7ff50cdcc3a0>,\n",
       " 'INGV': <obspy.clients.fdsn.mass_downloader.download_helpers.ClientDownloadHelper at 0x7ff50cdcc070>,\n",
       " 'IPGP': <obspy.clients.fdsn.mass_downloader.download_helpers.ClientDownloadHelper at 0x7ff50cdcc2b0>,\n",
       " 'KNMI': <obspy.clients.fdsn.mass_downloader.download_helpers.ClientDownloadHelper at 0x7ff50cdccf10>,\n",
       " 'KOERI': <obspy.clients.fdsn.mass_downloader.download_helpers.ClientDownloadHelper at 0x7ff50cdcc190>,\n",
       " 'LMU': <obspy.clients.fdsn.mass_downloader.download_helpers.ClientDownloadHelper at 0x7ff50cdcc4c0>,\n",
       " 'NCEDC': <obspy.clients.fdsn.mass_downloader.download_helpers.ClientDownloadHelper at 0x7ff50cdccb80>,\n",
       " 'NIEP': <obspy.clients.fdsn.mass_downloader.download_helpers.ClientDownloadHelper at 0x7ff50cdcc340>,\n",
       " 'NOA': <obspy.clients.fdsn.mass_downloader.download_helpers.ClientDownloadHelper at 0x7ff50cdcc8e0>,\n",
       " 'RESIF': <obspy.clients.fdsn.mass_downloader.download_helpers.ClientDownloadHelper at 0x7ff50cdcc670>,\n",
       " 'SCEDC': <obspy.clients.fdsn.mass_downloader.download_helpers.ClientDownloadHelper at 0x7ff50cdcc0d0>,\n",
       " 'TEXNET': <obspy.clients.fdsn.mass_downloader.download_helpers.ClientDownloadHelper at 0x7ff50cdcc6a0>,\n",
       " 'UIB-NORSAR': <obspy.clients.fdsn.mass_downloader.download_helpers.ClientDownloadHelper at 0x7ff50cdcc2e0>,\n",
       " 'ORFEUS': <obspy.clients.fdsn.mass_downloader.download_helpers.ClientDownloadHelper at 0x7ff50cdcc9d0>,\n",
       " 'IRIS': <obspy.clients.fdsn.mass_downloader.download_helpers.ClientDownloadHelper at 0x7ff50cdcc730>}"
      ]
     },
     "execution_count": 5,
     "metadata": {},
     "output_type": "execute_result"
    }
   ],
   "source": [
    "mdl = MassDownloader()\n",
    "mdl.download(domain,restrictions, mseed_storage=\"waveforms\", stationxml_storage=\"stations\")"
   ]
  },
  {
   "cell_type": "markdown",
   "metadata": {},
   "source": [
    "This code loops through each of the downloaded waveforms.  It removes the instrument response using a defined pre-filter and converts to displacement.  The maximum displacement is determined, along with the distance from the event to the station.  The local magnitude is calculated using the approximate emprical formula from Bullen and Bolt (1985).  The average magnitude for each station-channel is reported at the end."
   ]
  },
  {
   "cell_type": "code",
   "execution_count": 6,
   "metadata": {},
   "outputs": [
    {
     "name": "stdout",
     "output_type": "stream",
     "text": [
      "waveforms/N4.T50A.00.HH1__20200120T191201Z__20200120T191301Z.mseed stations/N4.T50A.xml\n",
      "displacement = 5.28455232357075 , distance = 97.6787740409144 , local mag = 4.1468967147509606\n",
      "waveforms/US.TZTN.00.BH2__20200120T191201Z__20200120T191301Z.mseed stations/US.TZTN.xml\n",
      "displacement = 13.017583246232888 , distance = 44.62745650562326 , local mag = 3.667511830238496\n",
      "waveforms/IM.TKL..BHE__20200120T191201Z__20200120T191301Z.mseed stations/IM.TKL.xml\n",
      "displacement = 13.60724088833879 , distance = 88.69248944267055 , local mag = 4.45036039623072\n",
      "waveforms/N4.T50A.00.HH2__20200120T191201Z__20200120T191301Z.mseed stations/N4.T50A.xml\n",
      "displacement = 4.728445859199891 , distance = 97.6787740409144 , local mag = 4.098606933163199\n",
      "waveforms/IM.TKL..BHN__20200120T191201Z__20200120T191301Z.mseed stations/IM.TKL.xml\n",
      "displacement = 5.069890540653063 , distance = 88.69248944267055 , local mag = 4.021588906062301\n",
      "waveforms/US.TZTN.00.BH1__20200120T191201Z__20200120T191301Z.mseed stations/US.TZTN.xml\n",
      "displacement = 18.427791426644692 , distance = 44.62745650562326 , local mag = 3.818454754693228\n",
      "\n",
      " average magnitude = 4.033903255856484\n"
     ]
    }
   ],
   "source": [
    "filt = ( 0.5, 1, 40, 50 )\n",
    "ms = 0.0\n",
    "n = 0\n",
    "for file in os.listdir(\"waveforms\"):\n",
    "    wavfile = \"waveforms/\" + file\n",
    "    stafile = \"stations/\" + file.split(\".\")[0] + \".\" + file.split(\".\")[1] + \".xml\"\n",
    "    print (wavfile, stafile)\n",
    "    st = read(wavfile)\n",
    "    tr = st[0]\n",
    "    inv = read_inventory(stafile)\n",
    "    tr.remove_response(inventory=inv, pre_filt=filt, output=\"DISP\")\n",
    "    disp = abs( tr.max() * 1e6 ) # displacement in microns\n",
    "    stalat = inv.networks[0].stations[0].latitude\n",
    "    stalon = inv.networks[0].stations[0].longitude\n",
    "    evelat = cat[0].origins[0].latitude\n",
    "    evelon = cat[0].origins[0].longitude\n",
    "    dist = gps2dist_azimuth(stalat, stalon, evelat, evelon )[0] / 1000 # distance in kilometers\n",
    "    magl = log10(disp) + 2.56 * log10(dist) - 1.67\n",
    "    print(\"displacement =\",disp,\", distance =\",dist,\", local mag =\",magl)\n",
    "    ms += magl\n",
    "    n += 1\n",
    "print (\"\\n average magnitude =\", ms/n)"
   ]
  },
  {
   "cell_type": "code",
   "execution_count": null,
   "metadata": {},
   "outputs": [],
   "source": []
  }
 ],
 "metadata": {
  "kernelspec": {
   "display_name": "Python 3 (ipykernel)",
   "language": "python",
   "name": "python3"
  },
  "language_info": {
   "codemirror_mode": {
    "name": "ipython",
    "version": 3
   },
   "file_extension": ".py",
   "mimetype": "text/x-python",
   "name": "python",
   "nbconvert_exporter": "python",
   "pygments_lexer": "ipython3",
   "version": "3.9.12"
  }
 },
 "nbformat": 4,
 "nbformat_minor": 4
}
